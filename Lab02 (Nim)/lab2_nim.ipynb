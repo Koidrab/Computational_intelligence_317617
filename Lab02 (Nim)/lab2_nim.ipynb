{
  "cells": [
    {
      "cell_type": "markdown",
      "metadata": {
        "pycharm": {
          "name": "#%% md\n"
        },
        "id": "gDYQ7tXYYgwH"
      },
      "source": [
        "Copyright **`(c)`** 2022 Giovanni Squillero `<squillero@polito.it>`  \n",
        "[`https://github.com/squillero/computational-intelligence`](https://github.com/squillero/computational-intelligence)  \n",
        "Free for personal or classroom use; see [`LICENSE.md`](https://github.com/squillero/computational-intelligence/blob/master/LICENSE.md) for details.  \n"
      ]
    },
    {
      "cell_type": "markdown",
      "metadata": {
        "pycharm": {
          "name": "#%%\n"
        },
        "id": "y5tGwb5LYgwJ"
      },
      "source": [
        "# Lab 3: ES"
      ]
    },
    {
      "cell_type": "markdown",
      "source": [
        "##Authors:\n",
        "- Andrea Panuccio s294603\n",
        "- Giovanni Violo s317617"
      ],
      "metadata": {
        "id": "r-d4GKbFGfM6"
      }
    },
    {
      "cell_type": "markdown",
      "source": [
        "##Summary\n",
        "We created 5 strategies, but in order to figure out the best mix, we call them with a meta-strategy.\n",
        "\n",
        "This meta-strategy first, checks if it is in a terminal case. If so, it just chooses the best action with explicit rules.\n",
        "\n",
        "Otherwise, it calls one of a set of given sub-strategies.\n",
        "\n",
        "The probability of these sub-strategies to be called is tuned at training time, in order to find the best probability, somehow taking into account the whole set composition."
      ],
      "metadata": {
        "id": "ue4FvzvmBBuA"
      }
    },
    {
      "cell_type": "code",
      "execution_count": 75,
      "metadata": {
        "id": "Us1TzQp5YgwK"
      },
      "outputs": [],
      "source": [
        "import logging\n",
        "from pprint import pprint, pformat\n",
        "from collections import namedtuple\n",
        "import random\n",
        "from copy import deepcopy\n",
        "from numpy import random as rnd\n",
        "import scipy\n",
        "from queue import PriorityQueue\n"
      ]
    },
    {
      "cell_type": "markdown",
      "metadata": {
        "id": "2fj1jhXHYgwK"
      },
      "source": [
        "## The *Nim* and *Nimply* classes"
      ]
    },
    {
      "cell_type": "code",
      "execution_count": 76,
      "metadata": {
        "id": "ga_4YVQjYgwL"
      },
      "outputs": [],
      "source": [
        "Nimply = namedtuple(\"Nimply\", \"row, num_objects\")\n"
      ]
    },
    {
      "cell_type": "code",
      "execution_count": 77,
      "metadata": {
        "id": "b8zulfczYgwL"
      },
      "outputs": [],
      "source": [
        "class Nim:\n",
        "    def __init__(self, num_rows: int, k: int = None) -> None:\n",
        "        self._rows = [i * 2 + 1 for i in range(num_rows)]\n",
        "        self._k = k\n",
        "\n",
        "    def __bool__(self):\n",
        "        return sum(self._rows) > 0\n",
        "\n",
        "    def __str__(self):\n",
        "        return \"<\" + \" \".join(str(_) for _ in self._rows) + \">\"\n",
        "\n",
        "    @property\n",
        "    def rows(self) -> tuple:\n",
        "        return tuple(self._rows)\n",
        "\n",
        "    def nimming(self, ply: Nimply) -> None:\n",
        "        row, num_objects = ply\n",
        "        assert self._rows[row] >= num_objects\n",
        "        assert self._k is None or num_objects <= self._k\n",
        "        self._rows[row] -= num_objects\n"
      ]
    },
    {
      "cell_type": "markdown",
      "metadata": {
        "id": "Jgph5m5bYgwL"
      },
      "source": [
        "## Sample (and silly) startegies"
      ]
    },
    {
      "cell_type": "code",
      "execution_count": 78,
      "metadata": {
        "id": "BnAW7QA2YgwL"
      },
      "outputs": [],
      "source": [
        "def pure_random(state: Nim) -> Nimply:\n",
        "    \"\"\"A completely random move\"\"\"\n",
        "    row = random.choice([r for r, c in enumerate(state.rows) if c > 0])\n",
        "    num_objects = random.randint(1, state.rows[row])\n",
        "    return Nimply(row, num_objects)\n"
      ]
    },
    {
      "cell_type": "code",
      "execution_count": 79,
      "metadata": {
        "id": "FpO-l8KnYgwL"
      },
      "outputs": [],
      "source": [
        "def gabriele(state: Nim) -> Nimply:\n",
        "    \"\"\"Pick always the maximum possible number of the lowest row\"\"\"\n",
        "    possible_moves = [(r, o) for r, c in enumerate(state.rows) for o in range(1, c + 1)]\n",
        "    return Nimply(*max(possible_moves, key=lambda m: (-m[0], m[1])))\n"
      ]
    },
    {
      "cell_type": "markdown",
      "source": [
        "#Sub-Strategies\n",
        "- N_stg: it completely removes a random heap\n",
        "- NO_stg: it removes all but one the elements of a random heap\n",
        "- NM_stg: it removes m elements from an heap with n elements, where m is the size of another heap and m < n\n",
        "- NOM_stg: it removes m + 1 elements from an heap with n elements, where m is the size of another heap and m < n\n",
        "- O_stg: it just removes an element from a random heap"
      ],
      "metadata": {
        "id": "ObNi1fbMHAep"
      }
    },
    {
      "cell_type": "code",
      "execution_count": 81,
      "metadata": {
        "id": "MnsDNuX_YgwM"
      },
      "outputs": [],
      "source": [
        "#OUR STRATEGIES\n",
        "\n",
        "def N_stg(state: Nim) -> Nimply:\n",
        "    ply = random.choice([Nimply(r, n) for r, n in enumerate(state.rows) if n != 0])\n",
        "\n",
        "    return ply\n",
        "\n",
        "def NO_stg(state: Nim) -> Nimply:\n",
        "\n",
        "    moveset = [Nimply(r, n-1) for r, n in enumerate(state.rows) if n != 0 and n > 1]\n",
        "\n",
        "    if not len(moveset): # se non ci sono heap con più di un match\n",
        "        ply = pure_random(state)\n",
        "        return ply\n",
        "\n",
        "    ply = random.choice(moveset)\n",
        "\n",
        "    return ply\n",
        "\n",
        "def NM_stg(state: Nim) -> Nimply:\n",
        "    ply1 = random.choice([Nimply(r, n) for r, n in enumerate(state.rows) if n != 0])\n",
        "    ply2 = random.choice([Nimply(r, n) for r, n in enumerate(state.rows) if n != 0])\n",
        "\n",
        "    if ply1 == ply2: # se ottengo per caso lo stesso heap\n",
        "        ply = pure_random(state)\n",
        "        return ply\n",
        "\n",
        "    ply = Nimply(ply1.row, ply2.num_objects)\n",
        "\n",
        "    if ply2.num_objects > ply1.num_objects:\n",
        "        ply = Nimply(ply2.row, ply1.num_objects)\n",
        "\n",
        "    return ply\n",
        "\n",
        "def NMO_stg(state: Nim) -> Nimply:\n",
        "    moveset = [Nimply(r, n) for r, n in enumerate(state.rows) if n != 0 and n > 1]\n",
        "\n",
        "    if not len(moveset): # se non ho trovato heap con più di un match\n",
        "        ply = pure_random(state)\n",
        "        return ply\n",
        "\n",
        "    ply1 = random.choice(moveset)\n",
        "    ply2 = random.choice(moveset)\n",
        "\n",
        "    if ply1 == ply2: # se ottengo per caso lo stesso heap\n",
        "        ply = pure_random(state)\n",
        "        return ply\n",
        "\n",
        "    ply = Nimply(ply1.row, ply2.num_objects-1)\n",
        "\n",
        "    if ply2.num_objects > ply1.num_objects:\n",
        "        ply = Nimply(ply2.row, ply1.num_objects-1)\n",
        "\n",
        "    return ply\n",
        "\n",
        "def O_stg(state: Nim) -> Nimply:\n",
        "    ply = random.choice([Nimply(r, 1) for r, n in enumerate(state.rows) if n != 0])\n",
        "\n",
        "    return ply\n",
        "\n",
        "def metaStrategy(state: Nim) -> Nimply:\n",
        "    global fun_list\n",
        "\n",
        "    ones = 0\n",
        "    nones = 0\n",
        "    nones_idx = 0\n",
        "    first = 0\n",
        "    target_idx = -1\n",
        "    nozeros = 0\n",
        "    count = 0\n",
        "\n",
        "    for r, h in enumerate(state.rows): # here I handle simbolically the terminal conditions, otherwise call my strategies with their probability\n",
        "        if h == 1: ones += 1\n",
        "        if h > 1: nones += 1\n",
        "        if h > 1: nones_idx = r\n",
        "\n",
        "        if first != 0 and h != 0 and first != h: count, target_idx = (count + 1, r)\n",
        "        if first == 0 and h != 0: target_idx, first = (r, h)\n",
        "        if h != 0: nozeros += 1\n",
        "\n",
        "    if ones % 2 != 0 and nones == 1:\n",
        "        ply = Nimply(nones_idx, state.rows[nones_idx]-1)\n",
        "        #print(\"tutti 1 (dispari) tranne 1\", state.rows, ply)\n",
        "    elif ones % 2 == 0 and ones > 0 and nones == 1:\n",
        "        ply = Nimply(nones_idx, state.rows[nones_idx])\n",
        "        #print(\"tutti 1 (pari) tranne 1\", state.rows, ply)\n",
        "    elif ones % 2 == 0 and ones == 0 and nones == 1:\n",
        "        ply = Nimply(nones_idx, state.rows[nones_idx]-1)\n",
        "        #print(\"uno solo > 1\", state.rows, ply)\n",
        "    elif nozeros % 2 != 0 and count == 0 and ones == 0:\n",
        "        ply = Nimply(target_idx, state.rows[target_idx])\n",
        "        #print(\"tutti uguali (dispari)\", state.rows, ply)\n",
        "    elif nozeros % 2 != 0 and count == 1:\n",
        "        ply = Nimply(target_idx, state.rows[target_idx])\n",
        "        #print(\"tutti uguali (pari) tranne 1\", state.rows, ply)\n",
        "    else:\n",
        "        ply = random.choices( [ st for _, st in fun_list], weights = [w for w, _ in fun_list])[0](state)\n",
        "        #print(\"strategia x\", state.rows, ply)\n",
        "    return ply"
      ]
    },
    {
      "cell_type": "code",
      "execution_count": 107,
      "metadata": {
        "id": "abK4JBVFYgwM"
      },
      "outputs": [],
      "source": [
        "import numpy as np\n",
        "\n",
        "\n",
        "def nim_sum(state: Nim) -> int:\n",
        "    tmp = np.array([tuple(int(x) for x in f\"{c:032b}\") for c in state.rows])\n",
        "    xor = tmp.sum(axis=0) % 2\n",
        "    return int(\"\".join(str(_) for _ in xor), base=2)\n",
        "\n",
        "\n",
        "def analize(raw: Nim) -> dict:\n",
        "    cooked = dict()\n",
        "    cooked[\"possible_moves\"] = dict()\n",
        "    for ply in (Nimply(r, o) for r, c in enumerate(raw.rows) for o in range(1, c + 1)):\n",
        "        tmp = deepcopy(raw)\n",
        "        tmp.nimming(ply)\n",
        "        cooked[\"possible_moves\"][ply] = nim_sum(tmp)\n",
        "    return cooked\n",
        "\n",
        "\n",
        "def optimal(state: Nim) -> Nimply:\n",
        "    analysis = analize(state)\n",
        "    logging.debug(f\"analysis:\\n{pformat(analysis)}\")\n",
        "    spicy_moves = [ply for ply, ns in analysis[\"possible_moves\"].items() if ns != 0]\n",
        "    if not spicy_moves:\n",
        "        spicy_moves = list(analysis[\"possible_moves\"].keys())\n",
        "    ply = random.choice(spicy_moves)\n",
        "    return ply\n"
      ]
    },
    {
      "cell_type": "markdown",
      "metadata": {
        "id": "_UgQvbfdYgwM"
      },
      "source": [
        "## Code Testing Match"
      ]
    },
    {
      "cell_type": "code",
      "execution_count": 104,
      "metadata": {
        "id": "X5rVliIlYgwM",
        "colab": {
          "base_uri": "https://localhost:8080/"
        },
        "outputId": "53fbcbe3-abdb-491f-bf71-01eadb6b8b03"
      },
      "outputs": [
        {
          "output_type": "stream",
          "name": "stderr",
          "text": [
            "INFO:root:init : <1 3 5 7 9>\n",
            "INFO:root:ply: player 0 plays Nimply(row=2, num_objects=3)\n",
            "INFO:root:status: <1 3 2 7 9>\n",
            "INFO:root:ply: player 1 plays Nimply(row=2, num_objects=2)\n",
            "INFO:root:status: <1 3 0 7 9>\n",
            "INFO:root:ply: player 0 plays Nimply(row=4, num_objects=7)\n",
            "INFO:root:status: <1 3 0 7 2>\n",
            "INFO:root:ply: player 1 plays Nimply(row=1, num_objects=2)\n",
            "INFO:root:status: <1 1 0 7 2>\n",
            "INFO:root:ply: player 0 plays Nimply(row=3, num_objects=7)\n",
            "INFO:root:status: <1 1 0 0 2>\n",
            "INFO:root:ply: player 1 plays Nimply(row=4, num_objects=2)\n",
            "INFO:root:status: <1 1 0 0 0>\n",
            "INFO:root:ply: player 0 plays Nimply(row=1, num_objects=1)\n",
            "INFO:root:status: <1 0 0 0 0>\n",
            "INFO:root:ply: player 1 plays Nimply(row=0, num_objects=1)\n",
            "INFO:root:status: <0 0 0 0 0>\n",
            "INFO:root:status: Player 0 won!\n"
          ]
        },
        {
          "output_type": "stream",
          "name": "stdout",
          "text": [
            "strategia x (1, 3, 2, 7, 9) Nimply(row=2, num_objects=2)\n",
            "strategia x (1, 3, 0, 7, 2) Nimply(row=1, num_objects=2)\n",
            "tutti 1 (pari) tranne 1 (1, 1, 0, 0, 2) Nimply(row=4, num_objects=2)\n",
            "strategia x (1, 0, 0, 0, 0) Nimply(row=0, num_objects=1)\n"
          ]
        }
      ],
      "source": [
        "logging.getLogger().setLevel(logging.INFO)\n",
        "\n",
        "fun_list = [(0.2, N_stg), (0.2, NO_stg),(0.2, NM_stg), (0.2, NMO_stg),(0.2, O_stg)]\n",
        "strategy = (optimal, metaStrategy)\n",
        "\n",
        "nim = Nim(5)\n",
        "logging.info(f\"init : {nim}\")\n",
        "player = 0\n",
        "while nim:\n",
        "    ply = strategy[player](nim)\n",
        "    logging.info(f\"ply: player {player} plays {ply}\")\n",
        "    nim.nimming(ply)\n",
        "    logging.info(f\"status: {nim}\")\n",
        "    player = 1 - player\n",
        "logging.info(f\"status: Player {player} won!\")\n"
      ]
    },
    {
      "cell_type": "markdown",
      "source": [
        "##Training strategy\n",
        "We implemented an ES algorith with the Plus strategy, so we always keep the parents when we create the offsprings.\n",
        "\n",
        "We noticed that due to the randomness of the opponent's plays, the average score has high variance, so we chose a sample of size=500 to be enough representative of the population i.e. the real unknown score.\n",
        "\n",
        "We chose mu=5 so the number of survivor/parents is 5.\n",
        "The number of offspring is lambda=20 so we have a high selective pressure.\n",
        "\n",
        "The choice of running just 10 epochs is just a matter of time at disposal: the higher the best. So we have generations=10.\n",
        "\n",
        "We also use a linear decreasing mutation factor, called tweak_factor, such that it goes down from an initial value of 1, to a final value of 0.4.\n",
        "The value of sigma so is sigma=tweak_factor / number_of_strategies.\n",
        "\n",
        "We tried to have a second set of mutation, for each new offspring, than choosing the best for each, but it wasn't computationally efficient due to the curse of dimensionality, and we decided to remove it.\n",
        "\n",
        "##Results and comments\n",
        "We found out that the N_stg sub_strategy was one of the most selected, but we got relatively high scores also from a combination of N_stg and NMO_stg, and from a combination of NO_stg and NMO_stg.\n",
        "\n",
        "NM_stg and O_stg have been always discarded."
      ],
      "metadata": {
        "id": "ogODn45dLHcR"
      }
    },
    {
      "cell_type": "code",
      "execution_count": 123,
      "metadata": {
        "id": "FvRTtk0jYgwN"
      },
      "outputs": [],
      "source": [
        "# SETUP\n",
        "fun_list_orig = [(0.2, N_stg), (0.2, NO_stg),(0.2, NM_stg), (0.2, NMO_stg),(0.2, O_stg)]\n",
        "\n",
        "fun_list = fun_list_orig.copy()\n",
        "strategy = (optimal, metaStrategy)\n",
        "\n",
        "best_list = fun_list.copy()\n",
        "best_win_perc = 0"
      ]
    },
    {
      "cell_type": "code",
      "execution_count": 124,
      "metadata": {
        "colab": {
          "base_uri": "https://localhost:8080/",
          "height": 757
        },
        "id": "1y15nzORYgwN",
        "outputId": "f7144e02-c99c-42f4-c695-2cc282416667"
      },
      "outputs": [
        {
          "output_type": "stream",
          "name": "stdout",
          "text": [
            "gen # 0\n",
            "best: 0\n",
            "gen # 1\n",
            "best: 0.27\n",
            "[(0.146, [(0.00023355741468343382, <function N_stg at 0x7d135c8cedd0>), (0.012751802768239404, <function NO_stg at 0x7d135c8cf6d0>), (0.25612680533867926, <function NM_stg at 0x7d135c87feb0>), (0.6962248407333991, <function NMO_stg at 0x7d135c87c430>), (0.03466299374499893, <function O_stg at 0x7d135c87c0d0>)]), (0.152, [(0.00015689390672160133, <function N_stg at 0x7d135c8cedd0>), (0.06329551949505735, <function NO_stg at 0x7d135c8cf6d0>), (0.0011592978783463049, <function NM_stg at 0x7d135c87feb0>), (0.4676941443599374, <function NMO_stg at 0x7d135c87c430>), (0.4676941443599374, <function O_stg at 0x7d135c87c0d0>)]), (0.176, [(0.0870931799085484, <function N_stg at 0x7d135c8cedd0>), (0.03203979035460067, <function NO_stg at 0x7d135c8cf6d0>), (0.2367438083281215, <function NM_stg at 0x7d135c87feb0>), (0.0005868292302056143, <function NMO_stg at 0x7d135c87c430>), (0.6435363921785239, <function O_stg at 0x7d135c87c0d0>)]), (0.182, [(0.10108902372958828, <function N_stg at 0x7d135c8cedd0>), (0.013680911658556488, <function NO_stg at 0x7d135c8cf6d0>), (0.10108902372958828, <function NM_stg at 0x7d135c87feb0>), (0.03718857355820761, <function NMO_stg at 0x7d135c87c430>), (0.7469524673240594, <function O_stg at 0x7d135c87c0d0>)]), (0.176, [(0.000332504279617941, <function N_stg at 0x7d135c8cedd0>), (0.006678526985384071, <function NO_stg at 0x7d135c8cf6d0>), (0.0009038403411703144, <function NM_stg at 0x7d135c87feb0>), (0.0009038403411703144, <function NMO_stg at 0x7d135c87c430>), (0.9911812880526575, <function O_stg at 0x7d135c87c0d0>)]), (0.27, [(0.8803455729499796, <function N_stg at 0x7d135c8cedd0>), (0.00010864327468633266, <function NO_stg at 0x7d135c8cf6d0>), (0.11914181746128359, <function NM_stg at 0x7d135c87feb0>), (0.00010864327468633266, <function NMO_stg at 0x7d135c87c430>), (0.00029532303936414265, <function O_stg at 0x7d135c87c0d0>)]), (0.242, [(0.04706784772644988, <function N_stg at 0x7d135c8cedd0>), (0.006369940503396851, <function NO_stg at 0x7d135c8cf6d0>), (0.0003171406633418447, <function NM_stg at 0x7d135c87feb0>), (0.0008620777022275841, <function NMO_stg at 0x7d135c87c430>), (0.9453829934045838, <function O_stg at 0x7d135c87c0d0>)]), (0.214, [(0.0008886968618511132, <function N_stg at 0x7d135c8cedd0>), (0.00012027204151010928, <function NO_stg at 0x7d135c8cf6d0>), (0.006566630967161497, <function NM_stg at 0x7d135c87feb0>), (0.017849953632231543, <function NMO_stg at 0x7d135c87c430>), (0.9745744464972458, <function O_stg at 0x7d135c87c0d0>)]), (0.214, [(0.33057265651924345, <function N_stg at 0x7d135c8cedd0>), (0.002227381038973547, <function NO_stg at 0x7d135c8cf6d0>), (0.006054649403296021, <function NM_stg at 0x7d135c87feb0>), (0.33057265651924345, <function NMO_stg at 0x7d135c87c430>), (0.33057265651924345, <function O_stg at 0x7d135c87c0d0>)]), (0.2, [(0.0006597002043095883, <function N_stg at 0x7d135c8cedd0>), (0.004874561818119559, <function NO_stg at 0x7d135c8cf6d0>), (0.2661420574915281, <function NM_stg at 0x7d135c87feb0>), (0.004874561818119559, <function NMO_stg at 0x7d135c87c430>), (0.7234491186679233, <function O_stg at 0x7d135c87c0d0>)])]\n",
            "gen # 2\n",
            "best: 0.27\n",
            "[(0.162, [(0.24645400904027182, <function N_stg at 0x7d135c8cedd0>), (0.1774750658020705, <function NO_stg at 0x7d135c8cf6d0>), (0.17815561199260468, <function NM_stg at 0x7d135c87feb0>), (0.1514613041247811, <function NMO_stg at 0x7d135c87c430>), (0.24645400904027182, <function O_stg at 0x7d135c87c0d0>)]), (0.17, [(0.21604278275027286, <function N_stg at 0x7d135c8cedd0>), (0.15557550568553255, <function NO_stg at 0x7d135c8cf6d0>), (0.15617207578542927, <function NM_stg at 0x7d135c87feb0>), (0.21604278275027286, <function NMO_stg at 0x7d135c87c430>), (0.2561668530284925, <function O_stg at 0x7d135c87c0d0>)]), (0.176, [(0.0870931799085484, <function N_stg at 0x7d135c8cedd0>), (0.03203979035460067, <function NO_stg at 0x7d135c8cf6d0>), (0.2367438083281215, <function NM_stg at 0x7d135c87feb0>), (0.0005868292302056143, <function NMO_stg at 0x7d135c87c430>), (0.6435363921785239, <function O_stg at 0x7d135c87c0d0>)]), (0.182, [(0.10108902372958828, <function N_stg at 0x7d135c8cedd0>), (0.013680911658556488, <function NO_stg at 0x7d135c8cf6d0>), (0.10108902372958828, <function NM_stg at 0x7d135c87feb0>), (0.03718857355820761, <function NMO_stg at 0x7d135c87c430>), (0.7469524673240594, <function O_stg at 0x7d135c87c0d0>)]), (0.176, [(0.000332504279617941, <function N_stg at 0x7d135c8cedd0>), (0.006678526985384071, <function NO_stg at 0x7d135c8cf6d0>), (0.0009038403411703144, <function NM_stg at 0x7d135c87feb0>), (0.0009038403411703144, <function NMO_stg at 0x7d135c87c430>), (0.9911812880526575, <function O_stg at 0x7d135c87c0d0>)]), (0.27, [(0.8803455729499796, <function N_stg at 0x7d135c8cedd0>), (0.00010864327468633266, <function NO_stg at 0x7d135c8cf6d0>), (0.11914181746128359, <function NM_stg at 0x7d135c87feb0>), (0.00010864327468633266, <function NMO_stg at 0x7d135c87c430>), (0.00029532303936414265, <function O_stg at 0x7d135c87c0d0>)]), (0.242, [(0.04706784772644988, <function N_stg at 0x7d135c8cedd0>), (0.006369940503396851, <function NO_stg at 0x7d135c8cf6d0>), (0.0003171406633418447, <function NM_stg at 0x7d135c87feb0>), (0.0008620777022275841, <function NMO_stg at 0x7d135c87c430>), (0.9453829934045838, <function O_stg at 0x7d135c87c0d0>)]), (0.214, [(0.0008886968618511132, <function N_stg at 0x7d135c8cedd0>), (0.00012027204151010928, <function NO_stg at 0x7d135c8cf6d0>), (0.006566630967161497, <function NM_stg at 0x7d135c87feb0>), (0.017849953632231543, <function NMO_stg at 0x7d135c87c430>), (0.9745744464972458, <function O_stg at 0x7d135c87c0d0>)]), (0.214, [(0.33057265651924345, <function N_stg at 0x7d135c8cedd0>), (0.002227381038973547, <function NO_stg at 0x7d135c8cf6d0>), (0.006054649403296021, <function NM_stg at 0x7d135c87feb0>), (0.33057265651924345, <function NMO_stg at 0x7d135c87c430>), (0.33057265651924345, <function O_stg at 0x7d135c87c0d0>)]), (0.2, [(0.0006597002043095883, <function N_stg at 0x7d135c8cedd0>), (0.004874561818119559, <function NO_stg at 0x7d135c8cf6d0>), (0.2661420574915281, <function NM_stg at 0x7d135c87feb0>), (0.004874561818119559, <function NMO_stg at 0x7d135c87c430>), (0.7234491186679233, <function O_stg at 0x7d135c87c0d0>)])]\n",
            "gen # 3\n",
            "best: 0.27\n",
            "[(0.162, [(0.24645400904027182, <function N_stg at 0x7d135c8cedd0>), (0.1774750658020705, <function NO_stg at 0x7d135c8cf6d0>), (0.17815561199260468, <function NM_stg at 0x7d135c87feb0>), (0.1514613041247811, <function NMO_stg at 0x7d135c87c430>), (0.24645400904027182, <function O_stg at 0x7d135c87c0d0>)]), (0.17, [(0.21604278275027286, <function N_stg at 0x7d135c8cedd0>), (0.15557550568553255, <function NO_stg at 0x7d135c8cf6d0>), (0.15617207578542927, <function NM_stg at 0x7d135c87feb0>), (0.21604278275027286, <function NMO_stg at 0x7d135c87c430>), (0.2561668530284925, <function O_stg at 0x7d135c87c0d0>)]), (0.176, [(0.0870931799085484, <function N_stg at 0x7d135c8cedd0>), (0.03203979035460067, <function NO_stg at 0x7d135c8cf6d0>), (0.2367438083281215, <function NM_stg at 0x7d135c87feb0>), (0.0005868292302056143, <function NMO_stg at 0x7d135c87c430>), (0.6435363921785239, <function O_stg at 0x7d135c87c0d0>)]), (0.182, [(0.10108902372958828, <function N_stg at 0x7d135c8cedd0>), (0.013680911658556488, <function NO_stg at 0x7d135c8cf6d0>), (0.10108902372958828, <function NM_stg at 0x7d135c87feb0>), (0.03718857355820761, <function NMO_stg at 0x7d135c87c430>), (0.7469524673240594, <function O_stg at 0x7d135c87c0d0>)]), (0.176, [(0.000332504279617941, <function N_stg at 0x7d135c8cedd0>), (0.006678526985384071, <function NO_stg at 0x7d135c8cf6d0>), (0.0009038403411703144, <function NM_stg at 0x7d135c87feb0>), (0.0009038403411703144, <function NMO_stg at 0x7d135c87c430>), (0.9911812880526575, <function O_stg at 0x7d135c87c0d0>)]), (0.27, [(0.8803455729499796, <function N_stg at 0x7d135c8cedd0>), (0.00010864327468633266, <function NO_stg at 0x7d135c8cf6d0>), (0.11914181746128359, <function NM_stg at 0x7d135c87feb0>), (0.00010864327468633266, <function NMO_stg at 0x7d135c87c430>), (0.00029532303936414265, <function O_stg at 0x7d135c87c0d0>)]), (0.242, [(0.04706784772644988, <function N_stg at 0x7d135c8cedd0>), (0.006369940503396851, <function NO_stg at 0x7d135c8cf6d0>), (0.0003171406633418447, <function NM_stg at 0x7d135c87feb0>), (0.0008620777022275841, <function NMO_stg at 0x7d135c87c430>), (0.9453829934045838, <function O_stg at 0x7d135c87c0d0>)]), (0.214, [(0.0008886968618511132, <function N_stg at 0x7d135c8cedd0>), (0.00012027204151010928, <function NO_stg at 0x7d135c8cf6d0>), (0.006566630967161497, <function NM_stg at 0x7d135c87feb0>), (0.017849953632231543, <function NMO_stg at 0x7d135c87c430>), (0.9745744464972458, <function O_stg at 0x7d135c87c0d0>)]), (0.214, [(0.33057265651924345, <function N_stg at 0x7d135c8cedd0>), (0.002227381038973547, <function NO_stg at 0x7d135c8cf6d0>), (0.006054649403296021, <function NM_stg at 0x7d135c87feb0>), (0.33057265651924345, <function NMO_stg at 0x7d135c87c430>), (0.33057265651924345, <function O_stg at 0x7d135c87c0d0>)]), (0.2, [(0.0006597002043095883, <function N_stg at 0x7d135c8cedd0>), (0.004874561818119559, <function NO_stg at 0x7d135c8cf6d0>), (0.2661420574915281, <function NM_stg at 0x7d135c87feb0>), (0.004874561818119559, <function NMO_stg at 0x7d135c87c430>), (0.7234491186679233, <function O_stg at 0x7d135c87c0d0>)])]\n",
            "gen # 4\n",
            "best: 0.27\n",
            "[(0.174, [(0.226713652466338, <function N_stg at 0x7d135c8cedd0>), (0.1632597519771582, <function NO_stg at 0x7d135c8cf6d0>), (0.16388578810101304, <function NM_stg at 0x7d135c87feb0>), (0.2194271549891528, <function NMO_stg at 0x7d135c87c430>), (0.226713652466338, <function O_stg at 0x7d135c87c0d0>)]), (0.176, [(0.000332504279617941, <function N_stg at 0x7d135c8cedd0>), (0.006678526985384071, <function NO_stg at 0x7d135c8cf6d0>), (0.0009038403411703144, <function NM_stg at 0x7d135c87feb0>), (0.0009038403411703144, <function NMO_stg at 0x7d135c87c430>), (0.9911812880526575, <function O_stg at 0x7d135c87c0d0>)]), (0.176, [(0.0870931799085484, <function N_stg at 0x7d135c8cedd0>), (0.03203979035460067, <function NO_stg at 0x7d135c8cf6d0>), (0.2367438083281215, <function NM_stg at 0x7d135c87feb0>), (0.0005868292302056143, <function NMO_stg at 0x7d135c87c430>), (0.6435363921785239, <function O_stg at 0x7d135c87c0d0>)]), (0.182, [(0.10108902372958828, <function N_stg at 0x7d135c8cedd0>), (0.013680911658556488, <function NO_stg at 0x7d135c8cf6d0>), (0.10108902372958828, <function NM_stg at 0x7d135c87feb0>), (0.03718857355820761, <function NMO_stg at 0x7d135c87c430>), (0.7469524673240594, <function O_stg at 0x7d135c87c0d0>)]), (0.178, [(0.234589921984519, <function N_stg at 0x7d135c8cedd0>), (0.1266508821779161, <function NO_stg at 0x7d135c8cf6d0>), (0.1695793518685269, <function NM_stg at 0x7d135c87feb0>), (0.234589921984519, <function NMO_stg at 0x7d135c87c430>), (0.234589921984519, <function O_stg at 0x7d135c87c0d0>)]), (0.27, [(0.8803455729499796, <function N_stg at 0x7d135c8cedd0>), (0.00010864327468633266, <function NO_stg at 0x7d135c8cf6d0>), (0.11914181746128359, <function NM_stg at 0x7d135c87feb0>), (0.00010864327468633266, <function NMO_stg at 0x7d135c87c430>), (0.00029532303936414265, <function O_stg at 0x7d135c87c0d0>)]), (0.242, [(0.04706784772644988, <function N_stg at 0x7d135c8cedd0>), (0.006369940503396851, <function NO_stg at 0x7d135c8cf6d0>), (0.0003171406633418447, <function NM_stg at 0x7d135c87feb0>), (0.0008620777022275841, <function NMO_stg at 0x7d135c87c430>), (0.9453829934045838, <function O_stg at 0x7d135c87c0d0>)]), (0.214, [(0.0008886968618511132, <function N_stg at 0x7d135c8cedd0>), (0.00012027204151010928, <function NO_stg at 0x7d135c8cf6d0>), (0.006566630967161497, <function NM_stg at 0x7d135c87feb0>), (0.017849953632231543, <function NMO_stg at 0x7d135c87c430>), (0.9745744464972458, <function O_stg at 0x7d135c87c0d0>)]), (0.214, [(0.33057265651924345, <function N_stg at 0x7d135c8cedd0>), (0.002227381038973547, <function NO_stg at 0x7d135c8cf6d0>), (0.006054649403296021, <function NM_stg at 0x7d135c87feb0>), (0.33057265651924345, <function NMO_stg at 0x7d135c87c430>), (0.33057265651924345, <function O_stg at 0x7d135c87c0d0>)]), (0.2, [(0.0006597002043095883, <function N_stg at 0x7d135c8cedd0>), (0.004874561818119559, <function NO_stg at 0x7d135c8cf6d0>), (0.2661420574915281, <function NM_stg at 0x7d135c87feb0>), (0.004874561818119559, <function NMO_stg at 0x7d135c87c430>), (0.7234491186679233, <function O_stg at 0x7d135c87c0d0>)])]\n",
            "gen # 5\n",
            "best: 0.27\n",
            "[(0.174, [(0.226713652466338, <function N_stg at 0x7d135c8cedd0>), (0.1632597519771582, <function NO_stg at 0x7d135c8cf6d0>), (0.16388578810101304, <function NM_stg at 0x7d135c87feb0>), (0.2194271549891528, <function NMO_stg at 0x7d135c87c430>), (0.226713652466338, <function O_stg at 0x7d135c87c0d0>)]), (0.176, [(0.000332504279617941, <function N_stg at 0x7d135c8cedd0>), (0.006678526985384071, <function NO_stg at 0x7d135c8cf6d0>), (0.0009038403411703144, <function NM_stg at 0x7d135c87feb0>), (0.0009038403411703144, <function NMO_stg at 0x7d135c87c430>), (0.9911812880526575, <function O_stg at 0x7d135c87c0d0>)]), (0.176, [(0.0870931799085484, <function N_stg at 0x7d135c8cedd0>), (0.03203979035460067, <function NO_stg at 0x7d135c8cf6d0>), (0.2367438083281215, <function NM_stg at 0x7d135c87feb0>), (0.0005868292302056143, <function NMO_stg at 0x7d135c87c430>), (0.6435363921785239, <function O_stg at 0x7d135c87c0d0>)]), (0.182, [(0.10108902372958828, <function N_stg at 0x7d135c8cedd0>), (0.013680911658556488, <function NO_stg at 0x7d135c8cf6d0>), (0.10108902372958828, <function NM_stg at 0x7d135c87feb0>), (0.03718857355820761, <function NMO_stg at 0x7d135c87c430>), (0.7469524673240594, <function O_stg at 0x7d135c87c0d0>)]), (0.178, [(0.234589921984519, <function N_stg at 0x7d135c8cedd0>), (0.1266508821779161, <function NO_stg at 0x7d135c8cf6d0>), (0.1695793518685269, <function NM_stg at 0x7d135c87feb0>), (0.234589921984519, <function NMO_stg at 0x7d135c87c430>), (0.234589921984519, <function O_stg at 0x7d135c87c0d0>)]), (0.27, [(0.8803455729499796, <function N_stg at 0x7d135c8cedd0>), (0.00010864327468633266, <function NO_stg at 0x7d135c8cf6d0>), (0.11914181746128359, <function NM_stg at 0x7d135c87feb0>), (0.00010864327468633266, <function NMO_stg at 0x7d135c87c430>), (0.00029532303936414265, <function O_stg at 0x7d135c87c0d0>)]), (0.242, [(0.04706784772644988, <function N_stg at 0x7d135c8cedd0>), (0.006369940503396851, <function NO_stg at 0x7d135c8cf6d0>), (0.0003171406633418447, <function NM_stg at 0x7d135c87feb0>), (0.0008620777022275841, <function NMO_stg at 0x7d135c87c430>), (0.9453829934045838, <function O_stg at 0x7d135c87c0d0>)]), (0.214, [(0.0008886968618511132, <function N_stg at 0x7d135c8cedd0>), (0.00012027204151010928, <function NO_stg at 0x7d135c8cf6d0>), (0.006566630967161497, <function NM_stg at 0x7d135c87feb0>), (0.017849953632231543, <function NMO_stg at 0x7d135c87c430>), (0.9745744464972458, <function O_stg at 0x7d135c87c0d0>)]), (0.214, [(0.33057265651924345, <function N_stg at 0x7d135c8cedd0>), (0.002227381038973547, <function NO_stg at 0x7d135c8cf6d0>), (0.006054649403296021, <function NM_stg at 0x7d135c87feb0>), (0.33057265651924345, <function NMO_stg at 0x7d135c87c430>), (0.33057265651924345, <function O_stg at 0x7d135c87c0d0>)]), (0.2, [(0.0006597002043095883, <function N_stg at 0x7d135c8cedd0>), (0.004874561818119559, <function NO_stg at 0x7d135c8cf6d0>), (0.2661420574915281, <function NM_stg at 0x7d135c87feb0>), (0.004874561818119559, <function NMO_stg at 0x7d135c87c430>), (0.7234491186679233, <function O_stg at 0x7d135c87c0d0>)])]\n",
            "gen # 6\n",
            "best: 0.27\n",
            "[(0.176, [(0.000332504279617941, <function N_stg at 0x7d135c8cedd0>), (0.006678526985384071, <function NO_stg at 0x7d135c8cf6d0>), (0.0009038403411703144, <function NM_stg at 0x7d135c87feb0>), (0.0009038403411703144, <function NMO_stg at 0x7d135c87c430>), (0.9911812880526575, <function O_stg at 0x7d135c87c0d0>)]), (0.176, [(0.0870931799085484, <function N_stg at 0x7d135c8cedd0>), (0.03203979035460067, <function NO_stg at 0x7d135c8cf6d0>), (0.2367438083281215, <function NM_stg at 0x7d135c87feb0>), (0.0005868292302056143, <function NMO_stg at 0x7d135c87c430>), (0.6435363921785239, <function O_stg at 0x7d135c87c0d0>)]), (0.2, [(0.0006597002043095883, <function N_stg at 0x7d135c8cedd0>), (0.004874561818119559, <function NO_stg at 0x7d135c8cf6d0>), (0.2661420574915281, <function NM_stg at 0x7d135c87feb0>), (0.004874561818119559, <function NMO_stg at 0x7d135c87c430>), (0.7234491186679233, <function O_stg at 0x7d135c87c0d0>)]), (0.182, [(0.10108902372958828, <function N_stg at 0x7d135c8cedd0>), (0.013680911658556488, <function NO_stg at 0x7d135c8cf6d0>), (0.10108902372958828, <function NM_stg at 0x7d135c87feb0>), (0.03718857355820761, <function NMO_stg at 0x7d135c87c430>), (0.7469524673240594, <function O_stg at 0x7d135c87c0d0>)]), (0.178, [(0.234589921984519, <function N_stg at 0x7d135c8cedd0>), (0.1266508821779161, <function NO_stg at 0x7d135c8cf6d0>), (0.1695793518685269, <function NM_stg at 0x7d135c87feb0>), (0.234589921984519, <function NMO_stg at 0x7d135c87c430>), (0.234589921984519, <function O_stg at 0x7d135c87c0d0>)]), (0.27, [(0.8803455729499796, <function N_stg at 0x7d135c8cedd0>), (0.00010864327468633266, <function NO_stg at 0x7d135c8cf6d0>), (0.11914181746128359, <function NM_stg at 0x7d135c87feb0>), (0.00010864327468633266, <function NMO_stg at 0x7d135c87c430>), (0.00029532303936414265, <function O_stg at 0x7d135c87c0d0>)]), (0.242, [(0.04706784772644988, <function N_stg at 0x7d135c8cedd0>), (0.006369940503396851, <function NO_stg at 0x7d135c8cf6d0>), (0.0003171406633418447, <function NM_stg at 0x7d135c87feb0>), (0.0008620777022275841, <function NMO_stg at 0x7d135c87c430>), (0.9453829934045838, <function O_stg at 0x7d135c87c0d0>)]), (0.214, [(0.0008886968618511132, <function N_stg at 0x7d135c8cedd0>), (0.00012027204151010928, <function NO_stg at 0x7d135c8cf6d0>), (0.006566630967161497, <function NM_stg at 0x7d135c87feb0>), (0.017849953632231543, <function NMO_stg at 0x7d135c87c430>), (0.9745744464972458, <function O_stg at 0x7d135c87c0d0>)]), (0.214, [(0.33057265651924345, <function N_stg at 0x7d135c8cedd0>), (0.002227381038973547, <function NO_stg at 0x7d135c8cf6d0>), (0.006054649403296021, <function NM_stg at 0x7d135c87feb0>), (0.33057265651924345, <function NMO_stg at 0x7d135c87c430>), (0.33057265651924345, <function O_stg at 0x7d135c87c0d0>)]), (0.18, [(0.13684541730719624, <function N_stg at 0x7d135c8cedd0>), (0.13674030228365633, <function NO_stg at 0x7d135c8cf6d0>), (0.13762462662545638, <function NM_stg at 0x7d135c87feb0>), (0.13918628346505674, <function NMO_stg at 0x7d135c87c430>), (0.44960337031863434, <function O_stg at 0x7d135c87c0d0>)])]\n"
          ]
        },
        {
          "output_type": "error",
          "ename": "KeyboardInterrupt",
          "evalue": "ignored",
          "traceback": [
            "\u001b[0;31m---------------------------------------------------------------------------\u001b[0m",
            "\u001b[0;31mKeyboardInterrupt\u001b[0m                         Traceback (most recent call last)",
            "\u001b[0;32m<ipython-input-124-78d7d134861d>\u001b[0m in \u001b[0;36m<cell line: 15>\u001b[0;34m()\u001b[0m\n\u001b[1;32m     60\u001b[0m           \u001b[0mplayer\u001b[0m \u001b[0;34m=\u001b[0m \u001b[0;36m0\u001b[0m\u001b[0;34m\u001b[0m\u001b[0;34m\u001b[0m\u001b[0m\n\u001b[1;32m     61\u001b[0m           \u001b[0;32mwhile\u001b[0m \u001b[0mnim\u001b[0m\u001b[0;34m:\u001b[0m\u001b[0;34m\u001b[0m\u001b[0;34m\u001b[0m\u001b[0m\n\u001b[0;32m---> 62\u001b[0;31m               \u001b[0mply\u001b[0m \u001b[0;34m=\u001b[0m \u001b[0mstrategy\u001b[0m\u001b[0;34m[\u001b[0m\u001b[0mplayer\u001b[0m\u001b[0;34m]\u001b[0m\u001b[0;34m(\u001b[0m\u001b[0mnim\u001b[0m\u001b[0;34m)\u001b[0m\u001b[0;34m\u001b[0m\u001b[0;34m\u001b[0m\u001b[0m\n\u001b[0m\u001b[1;32m     63\u001b[0m               \u001b[0mnim\u001b[0m\u001b[0;34m.\u001b[0m\u001b[0mnimming\u001b[0m\u001b[0;34m(\u001b[0m\u001b[0mply\u001b[0m\u001b[0;34m)\u001b[0m\u001b[0;34m\u001b[0m\u001b[0;34m\u001b[0m\u001b[0m\n\u001b[1;32m     64\u001b[0m               \u001b[0mplayer\u001b[0m \u001b[0;34m=\u001b[0m \u001b[0;36m1\u001b[0m \u001b[0;34m-\u001b[0m \u001b[0mplayer\u001b[0m\u001b[0;34m\u001b[0m\u001b[0;34m\u001b[0m\u001b[0m\n",
            "\u001b[0;32m<ipython-input-107-0a177d5713e6>\u001b[0m in \u001b[0;36moptimal\u001b[0;34m(state)\u001b[0m\n\u001b[1;32m     20\u001b[0m \u001b[0;32mdef\u001b[0m \u001b[0moptimal\u001b[0m\u001b[0;34m(\u001b[0m\u001b[0mstate\u001b[0m\u001b[0;34m:\u001b[0m \u001b[0mNim\u001b[0m\u001b[0;34m)\u001b[0m \u001b[0;34m->\u001b[0m \u001b[0mNimply\u001b[0m\u001b[0;34m:\u001b[0m\u001b[0;34m\u001b[0m\u001b[0;34m\u001b[0m\u001b[0m\n\u001b[1;32m     21\u001b[0m     \u001b[0manalysis\u001b[0m \u001b[0;34m=\u001b[0m \u001b[0manalize\u001b[0m\u001b[0;34m(\u001b[0m\u001b[0mstate\u001b[0m\u001b[0;34m)\u001b[0m\u001b[0;34m\u001b[0m\u001b[0;34m\u001b[0m\u001b[0m\n\u001b[0;32m---> 22\u001b[0;31m     \u001b[0mlogging\u001b[0m\u001b[0;34m.\u001b[0m\u001b[0mdebug\u001b[0m\u001b[0;34m(\u001b[0m\u001b[0;34mf\"analysis:\\n{pformat(analysis)}\"\u001b[0m\u001b[0;34m)\u001b[0m\u001b[0;34m\u001b[0m\u001b[0;34m\u001b[0m\u001b[0m\n\u001b[0m\u001b[1;32m     23\u001b[0m     \u001b[0mspicy_moves\u001b[0m \u001b[0;34m=\u001b[0m \u001b[0;34m[\u001b[0m\u001b[0mply\u001b[0m \u001b[0;32mfor\u001b[0m \u001b[0mply\u001b[0m\u001b[0;34m,\u001b[0m \u001b[0mns\u001b[0m \u001b[0;32min\u001b[0m \u001b[0manalysis\u001b[0m\u001b[0;34m[\u001b[0m\u001b[0;34m\"possible_moves\"\u001b[0m\u001b[0;34m]\u001b[0m\u001b[0;34m.\u001b[0m\u001b[0mitems\u001b[0m\u001b[0;34m(\u001b[0m\u001b[0;34m)\u001b[0m \u001b[0;32mif\u001b[0m \u001b[0mns\u001b[0m \u001b[0;34m!=\u001b[0m \u001b[0;36m0\u001b[0m\u001b[0;34m]\u001b[0m\u001b[0;34m\u001b[0m\u001b[0;34m\u001b[0m\u001b[0m\n\u001b[1;32m     24\u001b[0m     \u001b[0;32mif\u001b[0m \u001b[0;32mnot\u001b[0m \u001b[0mspicy_moves\u001b[0m\u001b[0;34m:\u001b[0m\u001b[0;34m\u001b[0m\u001b[0;34m\u001b[0m\u001b[0m\n",
            "\u001b[0;32m/usr/lib/python3.10/pprint.py\u001b[0m in \u001b[0;36mpformat\u001b[0;34m(object, indent, width, depth, compact, sort_dicts, underscore_numbers)\u001b[0m\n\u001b[1;32m     60\u001b[0m     return PrettyPrinter(indent=indent, width=width, depth=depth,\n\u001b[1;32m     61\u001b[0m                          \u001b[0mcompact\u001b[0m\u001b[0;34m=\u001b[0m\u001b[0mcompact\u001b[0m\u001b[0;34m,\u001b[0m \u001b[0msort_dicts\u001b[0m\u001b[0;34m=\u001b[0m\u001b[0msort_dicts\u001b[0m\u001b[0;34m,\u001b[0m\u001b[0;34m\u001b[0m\u001b[0;34m\u001b[0m\u001b[0m\n\u001b[0;32m---> 62\u001b[0;31m                          underscore_numbers=underscore_numbers).pformat(object)\n\u001b[0m\u001b[1;32m     63\u001b[0m \u001b[0;34m\u001b[0m\u001b[0m\n\u001b[1;32m     64\u001b[0m \u001b[0;32mdef\u001b[0m \u001b[0mpp\u001b[0m\u001b[0;34m(\u001b[0m\u001b[0mobject\u001b[0m\u001b[0;34m,\u001b[0m \u001b[0;34m*\u001b[0m\u001b[0margs\u001b[0m\u001b[0;34m,\u001b[0m \u001b[0msort_dicts\u001b[0m\u001b[0;34m=\u001b[0m\u001b[0;32mFalse\u001b[0m\u001b[0;34m,\u001b[0m \u001b[0;34m**\u001b[0m\u001b[0mkwargs\u001b[0m\u001b[0;34m)\u001b[0m\u001b[0;34m:\u001b[0m\u001b[0;34m\u001b[0m\u001b[0;34m\u001b[0m\u001b[0m\n",
            "\u001b[0;32m/usr/lib/python3.10/pprint.py\u001b[0m in \u001b[0;36mpformat\u001b[0;34m(self, object)\u001b[0m\n\u001b[1;32m    155\u001b[0m     \u001b[0;32mdef\u001b[0m \u001b[0mpformat\u001b[0m\u001b[0;34m(\u001b[0m\u001b[0mself\u001b[0m\u001b[0;34m,\u001b[0m \u001b[0mobject\u001b[0m\u001b[0;34m)\u001b[0m\u001b[0;34m:\u001b[0m\u001b[0;34m\u001b[0m\u001b[0;34m\u001b[0m\u001b[0m\n\u001b[1;32m    156\u001b[0m         \u001b[0msio\u001b[0m \u001b[0;34m=\u001b[0m \u001b[0m_StringIO\u001b[0m\u001b[0;34m(\u001b[0m\u001b[0;34m)\u001b[0m\u001b[0;34m\u001b[0m\u001b[0;34m\u001b[0m\u001b[0m\n\u001b[0;32m--> 157\u001b[0;31m         \u001b[0mself\u001b[0m\u001b[0;34m.\u001b[0m\u001b[0m_format\u001b[0m\u001b[0;34m(\u001b[0m\u001b[0mobject\u001b[0m\u001b[0;34m,\u001b[0m \u001b[0msio\u001b[0m\u001b[0;34m,\u001b[0m \u001b[0;36m0\u001b[0m\u001b[0;34m,\u001b[0m \u001b[0;36m0\u001b[0m\u001b[0;34m,\u001b[0m \u001b[0;34m{\u001b[0m\u001b[0;34m}\u001b[0m\u001b[0;34m,\u001b[0m \u001b[0;36m0\u001b[0m\u001b[0;34m)\u001b[0m\u001b[0;34m\u001b[0m\u001b[0;34m\u001b[0m\u001b[0m\n\u001b[0m\u001b[1;32m    158\u001b[0m         \u001b[0;32mreturn\u001b[0m \u001b[0msio\u001b[0m\u001b[0;34m.\u001b[0m\u001b[0mgetvalue\u001b[0m\u001b[0;34m(\u001b[0m\u001b[0;34m)\u001b[0m\u001b[0;34m\u001b[0m\u001b[0;34m\u001b[0m\u001b[0m\n\u001b[1;32m    159\u001b[0m \u001b[0;34m\u001b[0m\u001b[0m\n",
            "\u001b[0;32m/usr/lib/python3.10/pprint.py\u001b[0m in \u001b[0;36m_format\u001b[0;34m(self, object, stream, indent, allowance, context, level)\u001b[0m\n\u001b[1;32m    172\u001b[0m             \u001b[0mself\u001b[0m\u001b[0;34m.\u001b[0m\u001b[0m_readable\u001b[0m \u001b[0;34m=\u001b[0m \u001b[0;32mFalse\u001b[0m\u001b[0;34m\u001b[0m\u001b[0;34m\u001b[0m\u001b[0m\n\u001b[1;32m    173\u001b[0m             \u001b[0;32mreturn\u001b[0m\u001b[0;34m\u001b[0m\u001b[0;34m\u001b[0m\u001b[0m\n\u001b[0;32m--> 174\u001b[0;31m         \u001b[0mrep\u001b[0m \u001b[0;34m=\u001b[0m \u001b[0mself\u001b[0m\u001b[0;34m.\u001b[0m\u001b[0m_repr\u001b[0m\u001b[0;34m(\u001b[0m\u001b[0mobject\u001b[0m\u001b[0;34m,\u001b[0m \u001b[0mcontext\u001b[0m\u001b[0;34m,\u001b[0m \u001b[0mlevel\u001b[0m\u001b[0;34m)\u001b[0m\u001b[0;34m\u001b[0m\u001b[0;34m\u001b[0m\u001b[0m\n\u001b[0m\u001b[1;32m    175\u001b[0m         \u001b[0mmax_width\u001b[0m \u001b[0;34m=\u001b[0m \u001b[0mself\u001b[0m\u001b[0;34m.\u001b[0m\u001b[0m_width\u001b[0m \u001b[0;34m-\u001b[0m \u001b[0mindent\u001b[0m \u001b[0;34m-\u001b[0m \u001b[0mallowance\u001b[0m\u001b[0;34m\u001b[0m\u001b[0;34m\u001b[0m\u001b[0m\n\u001b[1;32m    176\u001b[0m         \u001b[0;32mif\u001b[0m \u001b[0mlen\u001b[0m\u001b[0;34m(\u001b[0m\u001b[0mrep\u001b[0m\u001b[0;34m)\u001b[0m \u001b[0;34m>\u001b[0m \u001b[0mmax_width\u001b[0m\u001b[0;34m:\u001b[0m\u001b[0;34m\u001b[0m\u001b[0;34m\u001b[0m\u001b[0m\n",
            "\u001b[0;32m/usr/lib/python3.10/pprint.py\u001b[0m in \u001b[0;36m_repr\u001b[0;34m(self, object, context, level)\u001b[0m\n\u001b[1;32m    452\u001b[0m \u001b[0;34m\u001b[0m\u001b[0m\n\u001b[1;32m    453\u001b[0m     \u001b[0;32mdef\u001b[0m \u001b[0m_repr\u001b[0m\u001b[0;34m(\u001b[0m\u001b[0mself\u001b[0m\u001b[0;34m,\u001b[0m \u001b[0mobject\u001b[0m\u001b[0;34m,\u001b[0m \u001b[0mcontext\u001b[0m\u001b[0;34m,\u001b[0m \u001b[0mlevel\u001b[0m\u001b[0;34m)\u001b[0m\u001b[0;34m:\u001b[0m\u001b[0;34m\u001b[0m\u001b[0;34m\u001b[0m\u001b[0m\n\u001b[0;32m--> 454\u001b[0;31m         repr, readable, recursive = self.format(object, context.copy(),\n\u001b[0m\u001b[1;32m    455\u001b[0m                                                 self._depth, level)\n\u001b[1;32m    456\u001b[0m         \u001b[0;32mif\u001b[0m \u001b[0;32mnot\u001b[0m \u001b[0mreadable\u001b[0m\u001b[0;34m:\u001b[0m\u001b[0;34m\u001b[0m\u001b[0;34m\u001b[0m\u001b[0m\n",
            "\u001b[0;32m/usr/lib/python3.10/pprint.py\u001b[0m in \u001b[0;36mformat\u001b[0;34m(self, object, context, maxlevels, level)\u001b[0m\n\u001b[1;32m    465\u001b[0m         \u001b[0;32mand\u001b[0m \u001b[0mwhether\u001b[0m \u001b[0mthe\u001b[0m \u001b[0mobject\u001b[0m \u001b[0mrepresents\u001b[0m \u001b[0ma\u001b[0m \u001b[0mrecursive\u001b[0m \u001b[0mconstruct\u001b[0m\u001b[0;34m.\u001b[0m\u001b[0;34m\u001b[0m\u001b[0;34m\u001b[0m\u001b[0m\n\u001b[1;32m    466\u001b[0m         \"\"\"\n\u001b[0;32m--> 467\u001b[0;31m         \u001b[0;32mreturn\u001b[0m \u001b[0mself\u001b[0m\u001b[0;34m.\u001b[0m\u001b[0m_safe_repr\u001b[0m\u001b[0;34m(\u001b[0m\u001b[0mobject\u001b[0m\u001b[0;34m,\u001b[0m \u001b[0mcontext\u001b[0m\u001b[0;34m,\u001b[0m \u001b[0mmaxlevels\u001b[0m\u001b[0;34m,\u001b[0m \u001b[0mlevel\u001b[0m\u001b[0;34m)\u001b[0m\u001b[0;34m\u001b[0m\u001b[0;34m\u001b[0m\u001b[0m\n\u001b[0m\u001b[1;32m    468\u001b[0m \u001b[0;34m\u001b[0m\u001b[0m\n\u001b[1;32m    469\u001b[0m     \u001b[0;32mdef\u001b[0m \u001b[0m_pprint_default_dict\u001b[0m\u001b[0;34m(\u001b[0m\u001b[0mself\u001b[0m\u001b[0;34m,\u001b[0m \u001b[0mobject\u001b[0m\u001b[0;34m,\u001b[0m \u001b[0mstream\u001b[0m\u001b[0;34m,\u001b[0m \u001b[0mindent\u001b[0m\u001b[0;34m,\u001b[0m \u001b[0mallowance\u001b[0m\u001b[0;34m,\u001b[0m \u001b[0mcontext\u001b[0m\u001b[0;34m,\u001b[0m \u001b[0mlevel\u001b[0m\u001b[0;34m)\u001b[0m\u001b[0;34m:\u001b[0m\u001b[0;34m\u001b[0m\u001b[0;34m\u001b[0m\u001b[0m\n",
            "\u001b[0;32m/usr/lib/python3.10/pprint.py\u001b[0m in \u001b[0;36m_safe_repr\u001b[0;34m(self, object, context, maxlevels, level)\u001b[0m\n\u001b[1;32m    583\u001b[0m                 krepr, kreadable, krecur = self.format(\n\u001b[1;32m    584\u001b[0m                     k, context, maxlevels, level)\n\u001b[0;32m--> 585\u001b[0;31m                 vrepr, vreadable, vrecur = self.format(\n\u001b[0m\u001b[1;32m    586\u001b[0m                     v, context, maxlevels, level)\n\u001b[1;32m    587\u001b[0m                 \u001b[0mappend\u001b[0m\u001b[0;34m(\u001b[0m\u001b[0;34m\"%s: %s\"\u001b[0m \u001b[0;34m%\u001b[0m \u001b[0;34m(\u001b[0m\u001b[0mkrepr\u001b[0m\u001b[0;34m,\u001b[0m \u001b[0mvrepr\u001b[0m\u001b[0;34m)\u001b[0m\u001b[0;34m)\u001b[0m\u001b[0;34m\u001b[0m\u001b[0;34m\u001b[0m\u001b[0m\n",
            "\u001b[0;32m/usr/lib/python3.10/pprint.py\u001b[0m in \u001b[0;36mformat\u001b[0;34m(self, object, context, maxlevels, level)\u001b[0m\n\u001b[1;32m    465\u001b[0m         \u001b[0;32mand\u001b[0m \u001b[0mwhether\u001b[0m \u001b[0mthe\u001b[0m \u001b[0mobject\u001b[0m \u001b[0mrepresents\u001b[0m \u001b[0ma\u001b[0m \u001b[0mrecursive\u001b[0m \u001b[0mconstruct\u001b[0m\u001b[0;34m.\u001b[0m\u001b[0;34m\u001b[0m\u001b[0;34m\u001b[0m\u001b[0m\n\u001b[1;32m    466\u001b[0m         \"\"\"\n\u001b[0;32m--> 467\u001b[0;31m         \u001b[0;32mreturn\u001b[0m \u001b[0mself\u001b[0m\u001b[0;34m.\u001b[0m\u001b[0m_safe_repr\u001b[0m\u001b[0;34m(\u001b[0m\u001b[0mobject\u001b[0m\u001b[0;34m,\u001b[0m \u001b[0mcontext\u001b[0m\u001b[0;34m,\u001b[0m \u001b[0mmaxlevels\u001b[0m\u001b[0;34m,\u001b[0m \u001b[0mlevel\u001b[0m\u001b[0;34m)\u001b[0m\u001b[0;34m\u001b[0m\u001b[0;34m\u001b[0m\u001b[0m\n\u001b[0m\u001b[1;32m    468\u001b[0m \u001b[0;34m\u001b[0m\u001b[0m\n\u001b[1;32m    469\u001b[0m     \u001b[0;32mdef\u001b[0m \u001b[0m_pprint_default_dict\u001b[0m\u001b[0;34m(\u001b[0m\u001b[0mself\u001b[0m\u001b[0;34m,\u001b[0m \u001b[0mobject\u001b[0m\u001b[0;34m,\u001b[0m \u001b[0mstream\u001b[0m\u001b[0;34m,\u001b[0m \u001b[0mindent\u001b[0m\u001b[0;34m,\u001b[0m \u001b[0mallowance\u001b[0m\u001b[0;34m,\u001b[0m \u001b[0mcontext\u001b[0m\u001b[0;34m,\u001b[0m \u001b[0mlevel\u001b[0m\u001b[0;34m)\u001b[0m\u001b[0;34m:\u001b[0m\u001b[0;34m\u001b[0m\u001b[0;34m\u001b[0m\u001b[0m\n",
            "\u001b[0;32m/usr/lib/python3.10/pprint.py\u001b[0m in \u001b[0;36m_safe_repr\u001b[0;34m(self, object, context, maxlevels, level)\u001b[0m\n\u001b[1;32m    577\u001b[0m             \u001b[0mlevel\u001b[0m \u001b[0;34m+=\u001b[0m \u001b[0;36m1\u001b[0m\u001b[0;34m\u001b[0m\u001b[0;34m\u001b[0m\u001b[0m\n\u001b[1;32m    578\u001b[0m             \u001b[0;32mif\u001b[0m \u001b[0mself\u001b[0m\u001b[0;34m.\u001b[0m\u001b[0m_sort_dicts\u001b[0m\u001b[0;34m:\u001b[0m\u001b[0;34m\u001b[0m\u001b[0;34m\u001b[0m\u001b[0m\n\u001b[0;32m--> 579\u001b[0;31m                 \u001b[0mitems\u001b[0m \u001b[0;34m=\u001b[0m \u001b[0msorted\u001b[0m\u001b[0;34m(\u001b[0m\u001b[0mobject\u001b[0m\u001b[0;34m.\u001b[0m\u001b[0mitems\u001b[0m\u001b[0;34m(\u001b[0m\u001b[0;34m)\u001b[0m\u001b[0;34m,\u001b[0m \u001b[0mkey\u001b[0m\u001b[0;34m=\u001b[0m\u001b[0m_safe_tuple\u001b[0m\u001b[0;34m)\u001b[0m\u001b[0;34m\u001b[0m\u001b[0;34m\u001b[0m\u001b[0m\n\u001b[0m\u001b[1;32m    580\u001b[0m             \u001b[0;32melse\u001b[0m\u001b[0;34m:\u001b[0m\u001b[0;34m\u001b[0m\u001b[0;34m\u001b[0m\u001b[0m\n\u001b[1;32m    581\u001b[0m                 \u001b[0mitems\u001b[0m \u001b[0;34m=\u001b[0m \u001b[0mobject\u001b[0m\u001b[0;34m.\u001b[0m\u001b[0mitems\u001b[0m\u001b[0;34m(\u001b[0m\u001b[0;34m)\u001b[0m\u001b[0;34m\u001b[0m\u001b[0;34m\u001b[0m\u001b[0m\n",
            "\u001b[0;32m/usr/lib/python3.10/pprint.py\u001b[0m in \u001b[0;36m_safe_tuple\u001b[0;34m(t)\u001b[0m\n\u001b[1;32m    100\u001b[0m                     (str(type(other.obj)), id(other.obj)))\n\u001b[1;32m    101\u001b[0m \u001b[0;34m\u001b[0m\u001b[0m\n\u001b[0;32m--> 102\u001b[0;31m \u001b[0;32mdef\u001b[0m \u001b[0m_safe_tuple\u001b[0m\u001b[0;34m(\u001b[0m\u001b[0mt\u001b[0m\u001b[0;34m)\u001b[0m\u001b[0;34m:\u001b[0m\u001b[0;34m\u001b[0m\u001b[0;34m\u001b[0m\u001b[0m\n\u001b[0m\u001b[1;32m    103\u001b[0m     \u001b[0;34m\"Helper function for comparing 2-tuples\"\u001b[0m\u001b[0;34m\u001b[0m\u001b[0;34m\u001b[0m\u001b[0m\n\u001b[1;32m    104\u001b[0m     \u001b[0;32mreturn\u001b[0m \u001b[0m_safe_key\u001b[0m\u001b[0;34m(\u001b[0m\u001b[0mt\u001b[0m\u001b[0;34m[\u001b[0m\u001b[0;36m0\u001b[0m\u001b[0;34m]\u001b[0m\u001b[0;34m)\u001b[0m\u001b[0;34m,\u001b[0m \u001b[0m_safe_key\u001b[0m\u001b[0;34m(\u001b[0m\u001b[0mt\u001b[0m\u001b[0;34m[\u001b[0m\u001b[0;36m1\u001b[0m\u001b[0;34m]\u001b[0m\u001b[0;34m)\u001b[0m\u001b[0;34m\u001b[0m\u001b[0;34m\u001b[0m\u001b[0m\n",
            "\u001b[0;31mKeyboardInterrupt\u001b[0m: "
          ]
        }
      ],
      "source": [
        "# TUNING & TRAINING\n",
        "NUM_MATCHES = 500       # less than 500 matches are not enough representative of the population of matches, mainly thanks to the high randomness of the opponent plays\n",
        "NUM_LOCAL_RUNS = 1      # local runs were a trial of \"gettin a checkpoint and mutate again NUM_LOCAL_RUNS times each genotype, then getting the best local: it wasn't efficient due to the curse of dimensionality\"\n",
        "NUM_RUNS = 20           # the number of offsprings\n",
        "NUM_GENS = 10           # the number of generations\n",
        "\n",
        "ELITES_MAX_NUM = 5      # the number of survivors of each generation; we tried crossin over them but it wasn't so computationally efficient\n",
        "elites_fun_list = []\n",
        "\n",
        "tweak_factor_orig = 1\n",
        "tweak_factor = tweak_factor_orig\n",
        "tweak_factor_final = 0.4\n",
        "twaek_factor_loss = (tweak_factor_orig - tweak_factor_final) / NUM_LOCAL_RUNS # we use a linear decreasing factor, between two thresholds, for the mutation\n",
        "population_fun_queue = PriorityQueue(ELITES_MAX_NUM)\n",
        "\n",
        "for gen in range(NUM_GENS): # for each generation\n",
        "  print(\"gen #\",gen)\n",
        "  print(\"best:\", best_win_perc)\n",
        "\n",
        "  population_fun_list = []\n",
        "  if population_fun_queue.qsize() > 0: # if it's not the first generation\n",
        "    # mutation\n",
        "    eli_fun_list = list(population_fun_queue.queue)\n",
        "    print(eli_fun_list)\n",
        "    eli = eli_fun_list[random.choice(range(ELITES_MAX_NUM))][1] # get a random survivor\n",
        "    while len(population_fun_list) < NUM_RUNS:\n",
        "      offspring = eli.copy() #get a copy as offspring\n",
        "\n",
        "      tweak = rnd.normal(loc=0, scale= tweak_factor/len(fun_list_orig)) #mutate the offspring\n",
        "      index = random.choice(range(len(fun_list_orig)))\n",
        "\n",
        "      old_weights = [w for w, _ in offspring]\n",
        "      old_weights[index] += tweak\n",
        "\n",
        "      new_weights = scipy.special.softmax(old_weights, axis=None)\n",
        "      offspring = [ (new_weights[idx], st ) for idx, ( _ , st) in enumerate(offspring)]\n",
        "      population_fun_list.append(offspring) # add it to the offspring list\n",
        "  else: # if it's the first generation\n",
        "    while len(population_fun_list) < NUM_RUNS: # just fill with random genotypes\n",
        "      rand_weights = scipy.special.softmax([random.choice(range(10)) for _ in range(len(fun_list_orig))], axis=None)\n",
        "      population_fun_list.append([ (rand_weights[idx], st ) for idx, ( _ , st) in enumerate(fun_list_orig)])\n",
        "\n",
        "  tweak_factor -= twaek_factor_loss #decrease the tweak factor\n",
        "\n",
        "  for fun_list in population_fun_list: # for each new genotype\n",
        "      #print(\"best:\", best_win_perc)\n",
        "\n",
        "      num_win = 0\n",
        "      for _ in range(NUM_MATCHES): # get NUM_MATCHES matches\n",
        "\n",
        "          nim = Nim(5)\n",
        "          player = 0\n",
        "          while nim:\n",
        "              ply = strategy[player](nim)\n",
        "              nim.nimming(ply)\n",
        "              player = 1 - player\n",
        "\n",
        "          if player:# if I win\n",
        "              num_win += 1\n",
        "\n",
        "      perc_run = num_win / NUM_MATCHES # newbie winrate\n",
        "      #print(\"\",perc_run)\n",
        "      if perc_run > best_win_perc: # check if it's the best\n",
        "        best_list = fun_list.copy()\n",
        "        best_win_perc = perc_run\n",
        "\n",
        "      if population_fun_queue.full(): # tryin to add it to the elites\n",
        "        old_eli_val, old_eli = population_fun_queue.get_nowait()\n",
        "        if perc_run > old_eli_val:\n",
        "            population_fun_queue.put((perc_run, fun_list.copy()))\n",
        "        else:\n",
        "            population_fun_queue.put((old_eli_val, old_eli))\n",
        "      else:\n",
        "        population_fun_queue.put((perc_run, fun_list.copy()))\n",
        "\n",
        "\n"
      ]
    },
    {
      "cell_type": "code",
      "execution_count": 125,
      "metadata": {
        "id": "3XkCywLcYgwN",
        "colab": {
          "base_uri": "https://localhost:8080/"
        },
        "outputId": "4efab2fd-5304-437a-a4ac-f132fbd09645"
      },
      "outputs": [
        {
          "output_type": "execute_result",
          "data": {
            "text/plain": [
              "[(0.8803455729499796,\n",
              "  <function __main__.N_stg(state: __main__.Nim) -> __main__.Nimply>),\n",
              " (0.00010864327468633266,\n",
              "  <function __main__.NO_stg(state: __main__.Nim) -> __main__.Nimply>),\n",
              " (0.11914181746128359,\n",
              "  <function __main__.NM_stg(state: __main__.Nim) -> __main__.Nimply>),\n",
              " (0.00010864327468633266,\n",
              "  <function __main__.NMO_stg(state: __main__.Nim) -> __main__.Nimply>),\n",
              " (0.00029532303936414265,\n",
              "  <function __main__.O_stg(state: __main__.Nim) -> __main__.Nimply>)]"
            ]
          },
          "metadata": {},
          "execution_count": 125
        }
      ],
      "source": [
        "best_list # what I got from the training"
      ]
    },
    {
      "cell_type": "code",
      "source": [
        "best_win_perc # the best winrate registered"
      ],
      "metadata": {
        "id": "zvcrICefZ8P-",
        "colab": {
          "base_uri": "https://localhost:8080/"
        },
        "outputId": "371d5514-c3f5-4383-d546-d3f9dad98519"
      },
      "execution_count": 126,
      "outputs": [
        {
          "output_type": "execute_result",
          "data": {
            "text/plain": [
              "0.27"
            ]
          },
          "metadata": {},
          "execution_count": 126
        }
      ]
    },
    {
      "cell_type": "markdown",
      "source": [
        "#Test\n",
        "\n",
        "Here we test the obtained solution. As we can notice, the average score is highly variable, due to the randomness of the opponent plays."
      ],
      "metadata": {
        "id": "ux49V_czIu5X"
      }
    },
    {
      "cell_type": "code",
      "source": [
        "# TESTING: it will never be the same as during training just for the inner variability of the plays\n",
        "fun_list = best_list\n",
        "strategy = (optimal, metaStrategy)\n",
        "num_win = 0\n",
        "print(fun_list)\n",
        "for _ in range(NUM_MATCHES):\n",
        "\n",
        "    nim = Nim(5)\n",
        "    player = 0\n",
        "    while nim:\n",
        "        ply = strategy[player](nim)\n",
        "        nim.nimming(ply)\n",
        "        player = 1 - player\n",
        "\n",
        "    if player:# if I win\n",
        "        num_win += 1\n",
        "\n",
        "#get the winrate\n",
        "perc_run = num_win / NUM_MATCHES\n",
        "print(perc_run)"
      ],
      "metadata": {
        "id": "CfRJPABR-GSX",
        "colab": {
          "base_uri": "https://localhost:8080/"
        },
        "outputId": "0bbb3dd6-f9a5-4394-ceeb-1acd632c2d2f"
      },
      "execution_count": 134,
      "outputs": [
        {
          "output_type": "stream",
          "name": "stdout",
          "text": [
            "[(0.8803455729499796, <function N_stg at 0x7d135c8cedd0>), (0.00010864327468633266, <function NO_stg at 0x7d135c8cf6d0>), (0.11914181746128359, <function NM_stg at 0x7d135c87feb0>), (0.00010864327468633266, <function NMO_stg at 0x7d135c87c430>), (0.00029532303936414265, <function O_stg at 0x7d135c87c0d0>)]\n",
            "0.29\n"
          ]
        }
      ]
    }
  ],
  "metadata": {
    "kernelspec": {
      "display_name": "Python 3",
      "name": "python3"
    },
    "language_info": {
      "codemirror_mode": {
        "name": "ipython",
        "version": 3
      },
      "file_extension": ".py",
      "mimetype": "text/x-python",
      "name": "python",
      "nbconvert_exporter": "python",
      "pygments_lexer": "ipython3",
      "version": "3.10.11"
    },
    "vscode": {
      "interpreter": {
        "hash": "10197e8e2f2aa67e2c349105091c77f4cd384fce4877865f002d9ec653f96bc0"
      }
    },
    "colab": {
      "provenance": []
    }
  },
  "nbformat": 4,
  "nbformat_minor": 0
}