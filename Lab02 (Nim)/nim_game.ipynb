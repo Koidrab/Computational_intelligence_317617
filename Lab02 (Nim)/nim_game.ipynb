{
  "cells": [
    {
      "cell_type": "markdown",
      "metadata": {
        "id": "gDYQ7tXYYgwH",
        "pycharm": {
          "name": "#%% md\n"
        }
      },
      "source": [
        "Copyright **`(c)`** 2022 Giovanni Squillero `<squillero@polito.it>`  \n",
        "[`https://github.com/squillero/computational-intelligence`](https://github.com/squillero/computational-intelligence)  \n",
        "Free for personal or classroom use; see [`LICENSE.md`](https://github.com/squillero/computational-intelligence/blob/master/LICENSE.md) for details.  \n"
      ]
    },
    {
      "cell_type": "markdown",
      "metadata": {
        "id": "y5tGwb5LYgwJ",
        "pycharm": {
          "name": "#%%\n"
        }
      },
      "source": [
        "# Lab 3: ES\n",
        "\n",
        "## Task\n",
        "\n",
        "Write agents able to play [*Nim*](https://en.wikipedia.org/wiki/Nim), with an arbitrary number of rows and an upper bound $k$ on the number of objects that can be removed in a turn (a.k.a., *subtraction game*).\n",
        "\n",
        "The goal of the game is to **avoid** taking the last object.\n",
        "\n",
        "* Task2.1: An agent using fixed rules based on *nim-sum* (i.e., an *expert system*)\n",
        "* Task2.2: An agent using evolved rules using ES\n",
        "\n",
        "## Instructions\n",
        "\n",
        "* Create the directory `lab2` inside the course repo\n",
        "* Put a `README.md` and your solution (all the files, code and auxiliary data if needed)\n",
        "\n",
        "## Notes\n",
        "\n",
        "* Working in group is not only allowed, but recommended (see: [Ubuntu](https://en.wikipedia.org/wiki/Ubuntu_philosophy) and [Cooperative Learning](https://files.eric.ed.gov/fulltext/EJ1096789.pdf)). Collaborations must be explicitly declared in the `README.md`.\n",
        "* [Yanking](https://www.emacswiki.org/emacs/KillingAndYanking) from the internet is allowed, but sources must be explicitly declared in the `README.md`.\n",
        "\n"
      ]
    },
    {
      "cell_type": "code",
      "execution_count": null,
      "metadata": {
        "id": "Us1TzQp5YgwK"
      },
      "outputs": [],
      "source": [
        "import logging\n",
        "from pprint import pprint, pformat\n",
        "from collections import namedtuple\n",
        "import random\n",
        "from copy import deepcopy\n",
        "from numpy import random as rnd\n",
        "import scipy\n",
        "from queue import PriorityQueue\n"
      ]
    },
    {
      "cell_type": "markdown",
      "metadata": {
        "id": "2fj1jhXHYgwK"
      },
      "source": [
        "## The *Nim* and *Nimply* classes"
      ]
    },
    {
      "cell_type": "code",
      "execution_count": null,
      "metadata": {
        "id": "ga_4YVQjYgwL"
      },
      "outputs": [],
      "source": [
        "Nimply = namedtuple(\"Nimply\", \"row, num_objects\")\n"
      ]
    },
    {
      "cell_type": "code",
      "execution_count": null,
      "metadata": {
        "id": "b8zulfczYgwL"
      },
      "outputs": [],
      "source": [
        "class Nim:\n",
        "    def __init__(self, num_rows: int, k: int = None) -> None:\n",
        "        self._rows = [i * 2 + 1 for i in range(num_rows)]\n",
        "        self._k = k\n",
        "\n",
        "    def __bool__(self):\n",
        "        return sum(self._rows) > 0\n",
        "\n",
        "    def __str__(self):\n",
        "        return \"<\" + \" \".join(str(_) for _ in self._rows) + \">\"\n",
        "\n",
        "    @property\n",
        "    def rows(self) -> tuple:\n",
        "        return tuple(self._rows)\n",
        "\n",
        "    def nimming(self, ply: Nimply) -> None:\n",
        "        row, num_objects = ply\n",
        "        assert self._rows[row] >= num_objects\n",
        "        assert self._k is None or num_objects <= self._k\n",
        "        self._rows[row] -= num_objects\n"
      ]
    },
    {
      "cell_type": "markdown",
      "metadata": {
        "id": "Jgph5m5bYgwL"
      },
      "source": [
        "## Sample (and silly) startegies"
      ]
    },
    {
      "cell_type": "code",
      "execution_count": null,
      "metadata": {
        "id": "BnAW7QA2YgwL"
      },
      "outputs": [],
      "source": [
        "def pure_random(state: Nim) -> Nimply:\n",
        "    \"\"\"A completely random move\"\"\"\n",
        "    row = random.choice([r for r, c in enumerate(state.rows) if c > 0])\n",
        "    num_objects = random.randint(1, state.rows[row])\n",
        "    return Nimply(row, num_objects)\n"
      ]
    },
    {
      "cell_type": "code",
      "execution_count": null,
      "metadata": {
        "id": "FpO-l8KnYgwL"
      },
      "outputs": [],
      "source": [
        "def gabriele(state: Nim) -> Nimply:\n",
        "    \"\"\"Pick always the maximum possible number of the lowest row\"\"\"\n",
        "    possible_moves = [(r, o) for r, c in enumerate(state.rows) for o in range(1, c + 1)]\n",
        "    return Nimply(*max(possible_moves, key=lambda m: (-m[0], m[1])))\n"
      ]
    },
    {
      "cell_type": "code",
      "execution_count": null,
      "metadata": {
        "id": "ov7PUiktYgwL"
      },
      "outputs": [],
      "source": [
        "def adaptive(state: Nim) -> Nimply:\n",
        "    \"\"\"A strategy that can adapt its parameters\"\"\"\n",
        "    genome = {\"love_small\": 0.5}\n"
      ]
    },
    {
      "cell_type": "code",
      "execution_count": null,
      "metadata": {
        "id": "MnsDNuX_YgwM"
      },
      "outputs": [],
      "source": [
        "#OUR STRATEGIES\n",
        "\n",
        "def N_stg(state: Nim) -> Nimply:\n",
        "    ply = random.choice([Nimply(r, n) for r, n in enumerate(state.rows) if n != 0])\n",
        "    \n",
        "    return ply\n",
        "\n",
        "def NO_stg(state: Nim) -> Nimply:\n",
        "\n",
        "    moveset = [Nimply(r, n-1) for r, n in enumerate(state.rows) if n != 0 and n > 1]\n",
        "\n",
        "    if not len(moveset): # se non ci sono heap con più di un match\n",
        "        ply = pure_random(state)\n",
        "        return ply\n",
        "\n",
        "    ply = random.choice(moveset)\n",
        "\n",
        "    return ply\n",
        "\n",
        "def NM_stg(state: Nim) -> Nimply:\n",
        "    ply1 = random.choice([Nimply(r, n) for r, n in enumerate(state.rows) if n != 0])\n",
        "    ply2 = random.choice([Nimply(r, n) for r, n in enumerate(state.rows) if n != 0])\n",
        "\n",
        "    if ply1 == ply2: # se ottengo per caso lo stesso heap \n",
        "        ply = pure_random(state)\n",
        "        return ply\n",
        "\n",
        "    ply = Nimply(ply1.row, ply2.num_objects)\n",
        "\n",
        "    if ply2.num_objects > ply1.num_objects:\n",
        "        ply = Nimply(ply2.row, ply1.num_objects)\n",
        "    \n",
        "    return ply\n",
        "\n",
        "def NMO_stg(state: Nim) -> Nimply:\n",
        "    moveset = [Nimply(r, n) for r, n in enumerate(state.rows) if n != 0 and n > 1]\n",
        "\n",
        "    if not len(moveset): # se non ho trovato heap con più di un match\n",
        "        ply = pure_random(state)\n",
        "        return ply\n",
        "\n",
        "    ply1 = random.choice(moveset)\n",
        "    ply2 = random.choice(moveset)\n",
        "    \n",
        "    if ply1 == ply2: # se ottengo per caso lo stesso heap\n",
        "        ply = pure_random(state)\n",
        "        return ply\n",
        "\n",
        "    ply = Nimply(ply1.row, ply2.num_objects-1)\n",
        "\n",
        "    if ply2.num_objects > ply1.num_objects:\n",
        "        ply = Nimply(ply2.row, ply1.num_objects-1)\n",
        "\n",
        "    return ply\n",
        "\n",
        "def O_stg(state: Nim) -> Nimply:\n",
        "    ply = random.choice([Nimply(r, 1) for r, n in enumerate(state.rows) if n != 0])\n",
        "    \n",
        "    return ply\n"
      ]
    },
    {
      "cell_type": "code",
      "execution_count": null,
      "metadata": {
        "id": "abK4JBVFYgwM"
      },
      "outputs": [],
      "source": [
        "import numpy as np\n",
        "\n",
        "\n",
        "def nim_sum(state: Nim) -> int:\n",
        "    tmp = np.array([tuple(int(x) for x in f\"{c:032b}\") for c in state.rows])\n",
        "    xor = tmp.sum(axis=0) % 2\n",
        "    return int(\"\".join(str(_) for _ in xor), base=2)\n",
        "\n",
        "\n",
        "def analize(raw: Nim) -> dict:\n",
        "    cooked = dict()\n",
        "    cooked[\"possible_moves\"] = dict()\n",
        "    for ply in (Nimply(r, o) for r, c in enumerate(raw.rows) for o in range(1, c + 1)):\n",
        "        tmp = deepcopy(raw)\n",
        "        tmp.nimming(ply)\n",
        "        cooked[\"possible_moves\"][ply] = nim_sum(tmp)\n",
        "    return cooked\n",
        "\n",
        "\n",
        "def optimal(state: Nim) -> Nimply:\n",
        "    analysis = analize(state)\n",
        "    logging.debug(f\"analysis:\\n{pformat(analysis)}\")\n",
        "    spicy_moves = [ply for ply, ns in analysis[\"possible_moves\"].items() if ns != 0]\n",
        "    if not spicy_moves:\n",
        "        spicy_moves = list(analysis[\"possible_moves\"].keys())\n",
        "    ply = random.choice(spicy_moves)\n",
        "    return ply\n",
        "\n",
        "def metaStrategy(state: Nim) -> Nimply:\n",
        "    global fun_list\n",
        "\n",
        "    ones = 0\n",
        "    nones = 0\n",
        "    nones_idx = 0\n",
        "    first = 0\n",
        "    target_idx = -1\n",
        "    nozeros = 0\n",
        "    count = 0\n",
        "\n",
        "    for r, h in enumerate(state.rows):\n",
        "        if h == 1: ones += 1\n",
        "        if h > 1: nones += 1\n",
        "        if h > 1: nones_idx = r\n",
        "\n",
        "        if first != 0 and h != 0 and first != h: count, target_idx = (count + 1, r)\n",
        "        if first == 0 and h != 0: target_idx, first = (r, h)\n",
        "        if h != 0: nozeros += 1\n",
        "\n",
        "    if ones % 2 != 0 and nones == 1:\n",
        "        ply = Nimply(nones_idx, state.rows[nones_idx]-1)\n",
        "        print(\"tutti 1 (dispari) tranne 1\", state.rows, ply)\n",
        "    elif ones % 2 == 0 and ones > 0 and nones == 1:\n",
        "        ply = Nimply(nones_idx, state.rows[nones_idx])\n",
        "        print(\"tutti 1 (pari) tranne 1\", state.rows, ply)\n",
        "    elif ones % 2 == 0 and ones == 0 and nones == 1:\n",
        "        ply = Nimply(nones_idx, state.rows[nones_idx]-1)\n",
        "        print(\"quelli a 1 pari e uno solo > 1\", state.rows, ply)\n",
        "    elif nozeros % 2 != 0 and count == 0 and ones == 0:\n",
        "        ply = Nimply(target_idx, state.rows[target_idx])\n",
        "        print(\"tutti uguali (dispari)\", state.rows, ply)\n",
        "    elif nozeros % 2 != 0 and count == 1:\n",
        "        ply = Nimply(target_idx, state.rows[target_idx])\n",
        "        print(\"tutti uguali (pari) tranne 1\", state.rows, ply)\n",
        "    else:\n",
        "        stg = random.choices( [ st for _, st in fun_list], weights = [w for w, _ in fun_list])[0]\n",
        "        ply = stg(state)\n",
        "        print(f\"Uso la strategia {stg.__name__}\", state.rows, ply)\n",
        "    return ply\n"
      ]
    },
    {
      "cell_type": "code",
      "execution_count": null,
      "metadata": {
        "id": "_U28rtGAYgwM"
      },
      "outputs": [],
      "source": [
        "# se ho un numero pari di heap a 1 e una sola a n > 1, prend n -1\n",
        "# se ho un numero dispri di heap a > 1, prendo un'intera colonna\n",
        "\n",
        "# prendo 2 prendo n - 2 da quello più numero\n",
        "def optimal(state: Nim) -> Nimply:\n",
        "    analysis = analize(state)\n",
        "    logging.debug(f\"analysis:\\n{pformat(analysis)}\")\n",
        "    spicy_moves = [ply for ply, ns in analysis[\"possible_moves\"].items() if ns != 0]\n",
        "    if not spicy_moves:\n",
        "        spicy_moves = list(analysis[\"possible_moves\"].keys())\n",
        "    ply = random.choice(spicy_moves)\n",
        "    return ply"
      ]
    },
    {
      "cell_type": "markdown",
      "metadata": {
        "id": "_UgQvbfdYgwM"
      },
      "source": [
        "## Oversimplified match"
      ]
    },
    {
      "cell_type": "code",
      "execution_count": null,
      "metadata": {
        "colab": {
          "base_uri": "https://localhost:8080/"
        },
        "id": "X5rVliIlYgwM",
        "outputId": "99365a50-4227-4640-bd01-f6812e477bfb"
      },
      "outputs": [],
      "source": [
        "logging.getLogger().setLevel(logging.INFO)\n",
        "\n",
        "fun_list = [(0.1, NMO_stg), (0.3, O_stg), (0.4, N_stg), (0.2, NO_stg)]\n",
        "strategy = (metaStrategy, metaStrategy)\n",
        "\n",
        "nim = Nim(5)\n",
        "logging.info(f\"init : {nim}\")\n",
        "player = 0\n",
        "while nim:\n",
        "    ply = strategy[player](nim)\n",
        "    logging.info(f\"ply: player {player} plays {ply}\")\n",
        "    nim.nimming(ply)\n",
        "    logging.info(f\"status: {nim}\")\n",
        "    player = 1 - player\n",
        "logging.info(f\"status: Player {player} won!\")\n"
      ]
    },
    {
      "cell_type": "code",
      "execution_count": null,
      "metadata": {
        "id": "FvRTtk0jYgwN"
      },
      "outputs": [],
      "source": [
        "fun_list_orig = [(0.4, N_stg), (0.5, NM_stg), (0.1, optimal)]\n",
        "fun_list = fun_list_orig.copy()\n",
        "strategy = (optimal, metaStrategy)\n",
        "\n",
        "best_list = fun_list.copy()\n",
        "best_win_perc = 0"
      ]
    },
    {
      "cell_type": "code",
      "execution_count": null,
      "metadata": {
        "colab": {
          "base_uri": "https://localhost:8080/"
        },
        "id": "1y15nzORYgwN",
        "outputId": "b648922a-8a83-413f-f7d7-bbf6ef9de3ed"
      },
      "outputs": [],
      "source": [
        "NUM_MATCHES = 500       #500 500\n",
        "NUM_LOCAL_RUNS = 1      #40  1\n",
        "NUM_RUNS = 20           #10  400\n",
        "NUM_GENS = 10          #1   1\n",
        "\n",
        "ELITES_MAX_NUM = 10\n",
        "elites_fun_list = []\n",
        "\n",
        "tweak_factor_orig = 1   #1\n",
        "tweak_factor = tweak_factor_orig\n",
        "tweak_factor_final = 1  #1\n",
        "twaek_factor_loss = (tweak_factor_orig - tweak_factor_final) / NUM_LOCAL_RUNS\n",
        "population_fun_queue = PriorityQueue()\n",
        "#print(twaek_factor_loss)\n",
        "for gen in range(NUM_GENS):\n",
        "  print(\"gen #\",gen)\n",
        "  #se elites vuoto, creo NUM_RUNS random\n",
        "  population_fun_list = []\n",
        "  while population_fun_queue.qsize() > 0 and len(population_fun_list) < ELITES_MAX_NUM:\n",
        "    eli = population_fun_queue.get()[1]\n",
        "    print(\"copio elite\")\n",
        "    #print(\"asd\",(ELITES_MAX_NUM - len(population_fun_list) + 1 // 2))\n",
        "    #[population_fun_list.append(eli) for _ in range((ELITES_MAX_NUM - len(population_fun_list) + 1 // 2))]\n",
        "    population_fun_list.append(eli)\n",
        "  population_fun_queue = PriorityQueue() #resetto la coda a priorità\n",
        "\n",
        "  if len(population_fun_list) > 0:\n",
        "    # metto qui la mutation\n",
        "    elem = population_fun_list[random.choice(range(len(population_fun_list)))]\n",
        "    while len(population_fun_list) < NUM_RUNS:\n",
        "      offspring = elem.copy()\n",
        "\n",
        "      tweak = rnd.normal(loc=0, scale= tweak_factor/len(fun_list_orig))\n",
        "      index = random.choice(range(len(fun_list_orig)))\n",
        "\n",
        "      old_weights = [w for w, _ in offspring]\n",
        "      old_weights[index] += tweak\n",
        "\n",
        "      new_weights = scipy.special.softmax(old_weights, axis=None)\n",
        "      offspring = [ (new_weights[idx], st ) for idx, ( _ , st) in enumerate(offspring)]\n",
        "      population_fun_list.append(offspring)\n",
        "  else:\n",
        "    while len(population_fun_list) < NUM_RUNS:\n",
        "      rand_weights = scipy.special.softmax([random.choice(range(10)) for _ in range(len(fun_list_orig))], axis=None)\n",
        "      population_fun_list.append([ (rand_weights[idx], st ) for idx, ( _ , st) in enumerate(fun_list_orig)])\n",
        "  #decremento il tweak factor\n",
        "  tweak_factor -= twaek_factor_loss\n",
        "\n",
        "  for fun_list in population_fun_list:\n",
        "      print(\"best:\", best_win_perc)\n",
        "\n",
        "      #local_best_fun_list = fun_list.copy()\n",
        "      #local_best_win_perc = 0\n",
        "      #tweak_factor = tweak_factor_orig\n",
        "      #for _ in range(NUM_LOCAL_RUNS):\n",
        "          #print(\"local best:\",local_best_win_perc)\n",
        "          #print(\"local best list:\",local_best_fun_list)\n",
        "          #fun_list = local_best_fun_list.copy()\n",
        "\n",
        "      num_win = 0\n",
        "      for _ in range(NUM_MATCHES):\n",
        "\n",
        "          nim = Nim(5)\n",
        "          player = 0\n",
        "          while nim:\n",
        "              ply = strategy[player](nim)\n",
        "              print(f\"Sto usando la strategia {strategy[player].__name__}\")\n",
        "              nim.nimming(ply)\n",
        "              player = 1 - player\n",
        "\n",
        "          if player:# se vinco\n",
        "              num_win += 1\n",
        "\n",
        "      #aggiorno best\n",
        "      perc_run = num_win / NUM_MATCHES\n",
        "      #print(\"\",perc_run)\n",
        "      if perc_run > best_win_perc:\n",
        "        best_list = fun_list.copy()\n",
        "        best_win_perc = perc_run\n",
        "      # provo ad aggiungerlo agli elite\n",
        "      population_fun_queue.put((perc_run, fun_list.copy()))\n",
        "\n"
      ]
    },
    {
      "cell_type": "code",
      "execution_count": null,
      "metadata": {
        "colab": {
          "base_uri": "https://localhost:8080/"
        },
        "id": "3XkCywLcYgwN",
        "outputId": "b9eb3265-ce11-463c-9629-133e4ab1e6d1"
      },
      "outputs": [],
      "source": [
        "best_list"
      ]
    },
    {
      "cell_type": "code",
      "execution_count": null,
      "metadata": {
        "colab": {
          "base_uri": "https://localhost:8080/"
        },
        "id": "zvcrICefZ8P-",
        "outputId": "1213c1f7-2d91-4f6b-c0a2-491992779a06"
      },
      "outputs": [],
      "source": [
        "best_win_perc"
      ]
    },
    {
      "cell_type": "code",
      "execution_count": null,
      "metadata": {
        "colab": {
          "base_uri": "https://localhost:8080/"
        },
        "id": "CfRJPABR-GSX",
        "outputId": "645aa9eb-1e6f-4019-b878-5754b49c1c70"
      },
      "outputs": [],
      "source": [
        "# TEST\n",
        "fun_list = best_list\n",
        "strategy = (optimal, metaStrategy)\n",
        "num_win = 0\n",
        "print(fun_list)\n",
        "for _ in range(NUM_MATCHES):\n",
        "\n",
        "    nim = Nim(5)\n",
        "    player = 0\n",
        "    while nim:\n",
        "        ply = strategy[player](nim)\n",
        "        nim.nimming(ply)\n",
        "        player = 1 - player\n",
        "\n",
        "    if player:# se vinco\n",
        "        num_win += 1\n",
        "\n",
        "#aggiorno best\n",
        "perc_run = num_win / NUM_MATCHES\n",
        "print(perc_run)"
      ]
    }
  ],
  "metadata": {
    "colab": {
      "provenance": []
    },
    "kernelspec": {
      "display_name": "Python 3",
      "name": "python3"
    },
    "language_info": {
      "codemirror_mode": {
        "name": "ipython",
        "version": 3
      },
      "file_extension": ".py",
      "mimetype": "text/x-python",
      "name": "python",
      "nbconvert_exporter": "python",
      "pygments_lexer": "ipython3",
      "version": "3.10.11"
    },
    "vscode": {
      "interpreter": {
        "hash": "10197e8e2f2aa67e2c349105091c77f4cd384fce4877865f002d9ec653f96bc0"
      }
    }
  },
  "nbformat": 4,
  "nbformat_minor": 0
}
